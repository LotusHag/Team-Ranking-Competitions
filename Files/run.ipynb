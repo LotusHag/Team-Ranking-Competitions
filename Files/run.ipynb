{
 "cells": [
  {
   "cell_type": "code",
   "execution_count": 1,
   "metadata": {},
   "outputs": [
    {
     "ename": "ImportError",
     "evalue": "cannot import name 'ranking_generator_LoL' from 'functions' (c:\\GitHubCode\\Gaming Organisation Projects\\TeamRankProgram\\Files\\functions.py)",
     "output_type": "error",
     "traceback": [
      "\u001b[1;31m---------------------------------------------------------------------------\u001b[0m",
      "\u001b[1;31mImportError\u001b[0m                               Traceback (most recent call last)",
      "Cell \u001b[1;32mIn[1], line 5\u001b[0m\n\u001b[0;32m      3\u001b[0m \u001b[38;5;28;01mfrom\u001b[39;00m \u001b[38;5;21;01mRankMethods\u001b[39;00m\u001b[38;5;21;01m.\u001b[39;00m\u001b[38;5;21;01mRankLoL\u001b[39;00m \u001b[38;5;28;01mimport\u001b[39;00m \u001b[38;5;241m*\u001b[39m\n\u001b[0;32m      4\u001b[0m \u001b[38;5;28;01mfrom\u001b[39;00m \u001b[38;5;21;01mRankMethods\u001b[39;00m\u001b[38;5;21;01m.\u001b[39;00m\u001b[38;5;21;01mRankValorant\u001b[39;00m \u001b[38;5;28;01mimport\u001b[39;00m \u001b[38;5;241m*\u001b[39m\n\u001b[1;32m----> 5\u001b[0m \u001b[38;5;28;01mfrom\u001b[39;00m \u001b[38;5;21;01mfunctions\u001b[39;00m \u001b[38;5;28;01mimport\u001b[39;00m ranking_generator_LoL\n\u001b[0;32m      6\u001b[0m \u001b[38;5;28;01mfrom\u001b[39;00m \u001b[38;5;21;01mfunctions\u001b[39;00m \u001b[38;5;28;01mimport\u001b[39;00m ranking_generator_Valorant\n",
      "\u001b[1;31mImportError\u001b[0m: cannot import name 'ranking_generator_LoL' from 'functions' (c:\\GitHubCode\\Gaming Organisation Projects\\TeamRankProgram\\Files\\functions.py)"
     ]
    }
   ],
   "source": [
    "# Imports\n",
    "import pandas as pd\n",
    "from RankMethods.RankLoL import *\n",
    "from RankMethods.RankValorant import *\n",
    "from functions import average_top5player_teams_with_metrics"
   ]
  },
  {
   "cell_type": "code",
   "execution_count": null,
   "metadata": {},
   "outputs": [],
   "source": [
    "#Input Locations\n",
    "input_file_path_LoL = 'Input Files/TeamsLoL.xlsx'\n",
    "input_file_path_Valorant = 'Input Files/TeamsValorant.xlsx'\n",
    "\n",
    "#Output Locations\n",
    "output_file_path_LoL = 'Output Files/OutputLoL.xlsx'\n",
    "output_file_path_Valorant = 'Output Files/OutputValorant.xlsx'"
   ]
  },
  {
   "cell_type": "markdown",
   "metadata": {},
   "source": [
    "Below is the code to be able to run the League of Legends team ranking generator.\n",
    "Make sure to have your file be named TeamsLoL.xlsx and have it contain the rows Rank and Team containing the rank of each teammember and their team name.\n",
    "It will subsequently take the five highest ranked players from within each team and rank the teams based on the average ranking of those five players. The difference between the highest and lowest member is also noted next to the average to be able to more easily identify teams with large skill discrepancies."
   ]
  },
  {
   "cell_type": "code",
   "execution_count": null,
   "metadata": {},
   "outputs": [
    {
     "ename": "TypeError",
     "evalue": "'list' object is not callable",
     "output_type": "error",
     "traceback": [
      "\u001b[1;31m---------------------------------------------------------------------------\u001b[0m",
      "\u001b[1;31mTypeError\u001b[0m                                 Traceback (most recent call last)",
      "Cell \u001b[1;32mIn[17], line 1\u001b[0m\n\u001b[1;32m----> 1\u001b[0m ranking_methods_LoL(input_file_path_LoL, output_file_path_LoL, ranking_methods_LoL)\n",
      "\u001b[1;31mTypeError\u001b[0m: 'list' object is not callable"
     ]
    }
   ],
   "source": [
    "ranking_generator_LoL(input_file_path_LoL, output_file_path_LoL, ranking_methods_LoL)"
   ]
  },
  {
   "cell_type": "markdown",
   "metadata": {},
   "source": [
    "Below is the code to be able to run the VALORANT team ranking generator.\n",
    "Make sure to have your file be named TeamsVALORANT.xlsx and have it contain the rows Rank and Team containing the rank of each teammember and their team name.\n",
    "It will subsequently take the five highest ranked players from within each team and rank the teams based on the average ranking of those five players. The difference between the highest and lowest member is also noted next to the average to be able to more easily identify teams with large skill discrepancies."
   ]
  },
  {
   "cell_type": "code",
   "execution_count": null,
   "metadata": {},
   "outputs": [
    {
     "ename": "NameError",
     "evalue": "name 'ranking_generator_Valorant' is not defined",
     "output_type": "error",
     "traceback": [
      "\u001b[1;31m---------------------------------------------------------------------------\u001b[0m",
      "\u001b[1;31mNameError\u001b[0m                                 Traceback (most recent call last)",
      "Cell \u001b[1;32mIn[25], line 1\u001b[0m\n\u001b[1;32m----> 1\u001b[0m ranking_generator_Valorant(input_file_path_Valorant, output_file_path_Valorant, ranking_methods_Valorant)\n",
      "\u001b[1;31mNameError\u001b[0m: name 'ranking_generator_Valorant' is not defined"
     ]
    }
   ],
   "source": [
    "ranking_generator_Valorant(input_file_path_Valorant, output_file_path_Valorant, ranking_methods_Valorant)"
   ]
  }
 ],
 "metadata": {
  "kernelspec": {
   "display_name": "base",
   "language": "python",
   "name": "python3"
  },
  "language_info": {
   "codemirror_mode": {
    "name": "ipython",
    "version": 3
   },
   "file_extension": ".py",
   "mimetype": "text/x-python",
   "name": "python",
   "nbconvert_exporter": "python",
   "pygments_lexer": "ipython3",
   "version": "3.11.7"
  }
 },
 "nbformat": 4,
 "nbformat_minor": 2
}
